{
 "cells": [
  {
   "cell_type": "code",
   "execution_count": null,
   "metadata": {},
   "outputs": [],
   "source": [
    "from IPython.display import display\n",
    "import pandas as pd\n",
    "from cell_cycle_gating import manual_gating_v2 as mg"
   ]
  },
  {
   "cell_type": "code",
   "execution_count": null,
   "metadata": {},
   "outputs": [],
   "source": [
    "# provide name of object level folder\n",
    "obj = 'EX_01[78956]'\n",
    "\n",
    "# Provide name of well to be corrected\n",
    "well = 'C09' \n",
    "\n",
    "# summary level output file that is output from the automated run\n",
    "dfs = pd.read_csv('summary_EX_01[78956].csv')\n",
    "\n",
    "# mapping between column names in obj_file and standardized name expected by script\n",
    "ndict = {'Nuclei Selected - EdUINT': 'edu',\n",
    "        'Nuclei Selected - DNAcontent': 'dna',\n",
    "        'Nuclei Selected - LDRTXT SER Spot 8 px' : 'ldr',\n",
    "        'Nuclei Selected - pH3INT': 'ph3'}"
   ]
  },
  {
   "cell_type": "code",
   "execution_count": null,
   "metadata": {},
   "outputs": [],
   "source": [
    "y = mg.update_gating(dfs, obj, well, ndict)\n",
    "display(y)"
   ]
  },
  {
   "cell_type": "markdown",
   "metadata": {},
   "source": [
    "### Once you are happy with your manual gating, proceed with the lines of code below"
   ]
  },
  {
   "cell_type": "code",
   "execution_count": null,
   "metadata": {},
   "outputs": [],
   "source": [
    "dfs2 = mg.apply_gating(y, dfs, obj, well, ndict)"
   ]
  },
  {
   "cell_type": "code",
   "execution_count": null,
   "metadata": {},
   "outputs": [],
   "source": [
    "dfs[dfs.well == 'C09']"
   ]
  },
  {
   "cell_type": "code",
   "execution_count": null,
   "metadata": {},
   "outputs": [],
   "source": [
    "dfs2[dfs2.well == 'C09']"
   ]
  },
  {
   "cell_type": "markdown",
   "metadata": {},
   "source": [
    "### NOTE: Save dfs2 inorder to overwrite  earlier version or save new file (see below)\n"
   ]
  },
  {
   "cell_type": "code",
   "execution_count": null,
   "metadata": {},
   "outputs": [],
   "source": [
    "# To save as new file, uncomment below line of code\n",
    "# dfs2.to_csv('summary_EX_01[78956]_C09_manualfix.csv')\n",
    "# ALTERNATIVELY,to overwrite original file uncomment below line of code \n",
    "# dfs2.to_csv('summary_EX_01[78956].csv')"
   ]
  },
  {
   "cell_type": "markdown",
   "metadata": {},
   "source": [
    "### Repeat all steps above for each well you want to fix manually. Note that dfs dataframe should load the file that was saved in the previous fixing cycle"
   ]
  }
 ],
 "metadata": {
  "kernelspec": {
   "display_name": "Python 3",
   "language": "python",
   "name": "python3"
  },
  "language_info": {
   "codemirror_mode": {
    "name": "ipython",
    "version": 3
   },
   "file_extension": ".py",
   "mimetype": "text/x-python",
   "name": "python",
   "nbconvert_exporter": "python",
   "pygments_lexer": "ipython3",
   "version": "3.6.5"
  }
 },
 "nbformat": 4,
 "nbformat_minor": 2
}
