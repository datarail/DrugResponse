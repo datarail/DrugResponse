{
 "cells": [
  {
   "cell_type": "code",
   "execution_count": 1,
   "metadata": {},
   "outputs": [],
   "source": [
    "from IPython.display import display\n",
    "import pandas as pd\n",
    "from cell_cycle_gating import manual_gating_v2 as mg"
   ]
  },
  {
   "cell_type": "code",
   "execution_count": 2,
   "metadata": {},
   "outputs": [],
   "source": [
    "# provide object level file for the well that has to be manually gated\n",
    "# obj_file = '2018-03-06T184736-0500[25243]DeepDyeDrop_S100[8132618].result.F9[8132579].Population - Nuclei Selected[0].txt'\n",
    "\n",
    "# provide name of object level folder\n",
    "obj = 'EX_01[78956]'\n",
    "\n",
    "# Provide name of well to be corrected\n",
    "well = 'C09' \n",
    "\n",
    "# summary level output file that is output from the automated run\n",
    "dfs = pd.read_csv('summary_EX_01[78956].csv')\n",
    "\n",
    "# mapping between column names in obj_file and standardized name expected by script\n",
    "ndict = {'Nuclei Selected - EdUINT': 'edu',\n",
    "        'Nuclei Selected - DNAcontent': 'dna',\n",
    "        'Nuclei Selected - LDRTXT SER Spot 8 px' : 'ldr',\n",
    "        'Nuclei Selected - pH3INT': 'ph3'}"
   ]
  },
  {
   "cell_type": "code",
   "execution_count": 4,
   "metadata": {},
   "outputs": [
    {
     "data": {
      "application/vnd.jupyter.widget-view+json": {
       "model_id": "c7fbf4b141d5414395cfe1b9bdabeb2a",
       "version_major": 2,
       "version_minor": 0
      },
      "text/plain": [
       "interactive(children=(FloatSlider(value=5.114577258588986, description='g1_left', max=6.320173298803322, min=4…"
      ]
     },
     "metadata": {},
     "output_type": "display_data"
    }
   ],
   "source": [
    "y = mg.update_gating(dfs, obj, well, ndict)\n",
    "display(y)"
   ]
  },
  {
   "cell_type": "code",
   "execution_count": 6,
   "metadata": {},
   "outputs": [],
   "source": [
    "dfs2 = mg.apply_gating(y, dfs, obj, well, ndict)"
   ]
  },
  {
   "cell_type": "code",
   "execution_count": 8,
   "metadata": {},
   "outputs": [
    {
     "data": {
      "text/html": [
       "<div>\n",
       "<style scoped>\n",
       "    .dataframe tbody tr th:only-of-type {\n",
       "        vertical-align: middle;\n",
       "    }\n",
       "\n",
       "    .dataframe tbody tr th {\n",
       "        vertical-align: top;\n",
       "    }\n",
       "\n",
       "    .dataframe thead th {\n",
       "        text-align: right;\n",
       "    }\n",
       "</style>\n",
       "<table border=\"1\" class=\"dataframe\">\n",
       "  <thead>\n",
       "    <tr style=\"text-align: right;\">\n",
       "      <th></th>\n",
       "      <th>barcode</th>\n",
       "      <th>agent</th>\n",
       "      <th>concentration</th>\n",
       "      <th>cell_line</th>\n",
       "      <th>well</th>\n",
       "      <th>object_level_file</th>\n",
       "      <th>cell_count__total</th>\n",
       "      <th>G1</th>\n",
       "      <th>S</th>\n",
       "      <th>G2</th>\n",
       "      <th>S_dropout</th>\n",
       "      <th>other</th>\n",
       "      <th>M</th>\n",
       "      <th>cell_count</th>\n",
       "      <th>cell_count__dead</th>\n",
       "    </tr>\n",
       "  </thead>\n",
       "  <tbody>\n",
       "    <tr>\n",
       "      <th>6</th>\n",
       "      <td>EX_01</td>\n",
       "      <td>drug2</td>\n",
       "      <td>0.0</td>\n",
       "      <td>HeLa</td>\n",
       "      <td>C09</td>\n",
       "      <td>2018-03-27T185855-0400[25545]DeepDyeDrop_Pin[7...</td>\n",
       "      <td>1619.0</td>\n",
       "      <td>0.62693</td>\n",
       "      <td>0.151946</td>\n",
       "      <td>0.11365</td>\n",
       "      <td>0.04509</td>\n",
       "      <td>0.057443</td>\n",
       "      <td>0.004941</td>\n",
       "      <td>1606.0</td>\n",
       "      <td>13.0</td>\n",
       "    </tr>\n",
       "  </tbody>\n",
       "</table>\n",
       "</div>"
      ],
      "text/plain": [
       "  barcode  agent  concentration cell_line well  \\\n",
       "6   EX_01  drug2            0.0      HeLa  C09   \n",
       "\n",
       "                                   object_level_file  cell_count__total  \\\n",
       "6  2018-03-27T185855-0400[25545]DeepDyeDrop_Pin[7...             1619.0   \n",
       "\n",
       "        G1         S       G2  S_dropout     other         M  cell_count  \\\n",
       "6  0.62693  0.151946  0.11365    0.04509  0.057443  0.004941      1606.0   \n",
       "\n",
       "   cell_count__dead  \n",
       "6              13.0  "
      ]
     },
     "execution_count": 8,
     "metadata": {},
     "output_type": "execute_result"
    }
   ],
   "source": [
    "dfs[dfs.well == 'C09']"
   ]
  },
  {
   "cell_type": "code",
   "execution_count": 9,
   "metadata": {},
   "outputs": [
    {
     "data": {
      "text/html": [
       "<div>\n",
       "<style scoped>\n",
       "    .dataframe tbody tr th:only-of-type {\n",
       "        vertical-align: middle;\n",
       "    }\n",
       "\n",
       "    .dataframe tbody tr th {\n",
       "        vertical-align: top;\n",
       "    }\n",
       "\n",
       "    .dataframe thead th {\n",
       "        text-align: right;\n",
       "    }\n",
       "</style>\n",
       "<table border=\"1\" class=\"dataframe\">\n",
       "  <thead>\n",
       "    <tr style=\"text-align: right;\">\n",
       "      <th></th>\n",
       "      <th>barcode</th>\n",
       "      <th>agent</th>\n",
       "      <th>concentration</th>\n",
       "      <th>cell_line</th>\n",
       "      <th>well</th>\n",
       "      <th>object_level_file</th>\n",
       "      <th>cell_count__total</th>\n",
       "      <th>G1</th>\n",
       "      <th>S</th>\n",
       "      <th>G2</th>\n",
       "      <th>S_dropout</th>\n",
       "      <th>other</th>\n",
       "      <th>M</th>\n",
       "      <th>cell_count</th>\n",
       "      <th>cell_count__dead</th>\n",
       "    </tr>\n",
       "    <tr>\n",
       "      <th>well</th>\n",
       "      <th></th>\n",
       "      <th></th>\n",
       "      <th></th>\n",
       "      <th></th>\n",
       "      <th></th>\n",
       "      <th></th>\n",
       "      <th></th>\n",
       "      <th></th>\n",
       "      <th></th>\n",
       "      <th></th>\n",
       "      <th></th>\n",
       "      <th></th>\n",
       "      <th></th>\n",
       "      <th></th>\n",
       "      <th></th>\n",
       "    </tr>\n",
       "  </thead>\n",
       "  <tbody>\n",
       "    <tr>\n",
       "      <th>C09</th>\n",
       "      <td>EX_01</td>\n",
       "      <td>drug2</td>\n",
       "      <td>0.0</td>\n",
       "      <td>HeLa</td>\n",
       "      <td>C09</td>\n",
       "      <td>2018-03-27T185855-0400[25545]DeepDyeDrop_Pin[7...</td>\n",
       "      <td>1619.0</td>\n",
       "      <td>0.546016</td>\n",
       "      <td>0.268067</td>\n",
       "      <td>0.068561</td>\n",
       "      <td>0.019148</td>\n",
       "      <td>0.093267</td>\n",
       "      <td>0.004941</td>\n",
       "      <td>1606.0</td>\n",
       "      <td>13.0</td>\n",
       "    </tr>\n",
       "  </tbody>\n",
       "</table>\n",
       "</div>"
      ],
      "text/plain": [
       "     barcode  agent  concentration cell_line well  \\\n",
       "well                                                \n",
       "C09    EX_01  drug2            0.0      HeLa  C09   \n",
       "\n",
       "                                      object_level_file  cell_count__total  \\\n",
       "well                                                                         \n",
       "C09   2018-03-27T185855-0400[25545]DeepDyeDrop_Pin[7...             1619.0   \n",
       "\n",
       "            G1         S        G2  S_dropout     other         M  cell_count  \\\n",
       "well                                                                            \n",
       "C09   0.546016  0.268067  0.068561   0.019148  0.093267  0.004941      1606.0   \n",
       "\n",
       "      cell_count__dead  \n",
       "well                    \n",
       "C09               13.0  "
      ]
     },
     "execution_count": 9,
     "metadata": {},
     "output_type": "execute_result"
    }
   ],
   "source": [
    "dfs2[dfs2.well == 'C09']"
   ]
  },
  {
   "cell_type": "code",
   "execution_count": null,
   "metadata": {},
   "outputs": [],
   "source": []
  }
 ],
 "metadata": {
  "kernelspec": {
   "display_name": "Python 3",
   "language": "python",
   "name": "python3"
  },
  "language_info": {
   "codemirror_mode": {
    "name": "ipython",
    "version": 3
   },
   "file_extension": ".py",
   "mimetype": "text/x-python",
   "name": "python",
   "nbconvert_exporter": "python",
   "pygments_lexer": "ipython3",
   "version": "3.6.5"
  }
 },
 "nbformat": 4,
 "nbformat_minor": 2
}
