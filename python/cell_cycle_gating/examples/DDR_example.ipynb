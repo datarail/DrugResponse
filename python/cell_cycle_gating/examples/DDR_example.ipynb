{
 "cells": [
  {
   "cell_type": "code",
   "execution_count": 1,
   "metadata": {},
   "outputs": [],
   "source": [
    "from cell_cycle_gating import run_cell_cycle_gating as rccg\n",
    "import pandas as pd\n",
    "import warnings\n",
    "warnings.filterwarnings('ignore')"
   ]
  },
  {
   "cell_type": "code",
   "execution_count": 5,
   "metadata": {},
   "outputs": [],
   "source": [
    "# Name of object level directory\n",
    "obj = 'EX_01[78956]'\n",
    "\n",
    "# Load metadata file (OPTIONAL)\n",
    "dfm = pd.read_csv('EX_01_metadata.csv')\n",
    "\n",
    "# Map user defined channel names to standarized names required by the script\n",
    "ndict = {'Nuclei Selected - EdUINT': 'edu',\n",
    "        'Nuclei Selected - DNAcontent': 'dna',\n",
    "        'Nuclei Selected - LDRTXT SER Spot 8 px' : 'ldrint',\n",
    "        'Nuclei Selected - pH3INT': 'ph3'}"
   ]
  },
  {
   "cell_type": "code",
   "execution_count": 9,
   "metadata": {},
   "outputs": [
    {
     "name": "stdout",
     "output_type": "stream",
     "text": [
      "Completed analysis for 10 out of 10 wells\n"
     ]
    }
   ],
   "source": [
    "dfs = rccg.run(obj, ndict, dfm)"
   ]
  },
  {
   "cell_type": "code",
   "execution_count": 10,
   "metadata": {},
   "outputs": [],
   "source": [
    "rccg.run?"
   ]
  },
  {
   "cell_type": "code",
   "execution_count": null,
   "metadata": {},
   "outputs": [],
   "source": []
  }
 ],
 "metadata": {
  "kernelspec": {
   "display_name": "Python 3",
   "language": "python",
   "name": "python3"
  },
  "language_info": {
   "codemirror_mode": {
    "name": "ipython",
    "version": 3
   },
   "file_extension": ".py",
   "mimetype": "text/x-python",
   "name": "python",
   "nbconvert_exporter": "python",
   "pygments_lexer": "ipython3",
   "version": "3.6.5"
  }
 },
 "nbformat": 4,
 "nbformat_minor": 1
}
