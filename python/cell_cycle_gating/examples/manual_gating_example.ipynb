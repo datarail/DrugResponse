{
 "cells": [
  {
   "cell_type": "code",
   "execution_count": null,
   "metadata": {},
   "outputs": [],
   "source": [
    "### Set path as the Drugresponse/python folder\n",
    "import os, git\n",
    "git_repo = git.Repo(\"./\",search_parent_directories=True).git.rev_parse(\"--show-toplevel\")\n",
    "path = os.path.join(git_repo, \"python\")\n",
    "os.chdir(path)"
   ]
  },
  {
   "cell_type": "code",
   "execution_count": null,
   "metadata": {},
   "outputs": [],
   "source": [
    "#%matplotlib tk\n",
    "import pandas as pd\n",
    "from cell_cycle_gating import manual_gating as mg\n",
    "import matplotlib\n",
    "#matplotlib.pyplot.ion()"
   ]
  },
  {
   "cell_type": "code",
   "execution_count": null,
   "metadata": {},
   "outputs": [],
   "source": [
    "# provide name of object level folder\n",
    "obj = 'cell_cycle_gating/examples/EX_01[78956]'\n",
    "\n",
    "# Provide name of well to be corrected\n",
    "well = 'C09' \n",
    "\n",
    "# summary level output file that is output from the automated run\n",
    "#dfs = pd.read_csv('summary_EX_01[78956].csv')\n",
    "\n",
    "# mapping between column names in obj_file and standardized name expected by script\n",
    "ndict = {'Nuclei Selected - EdUINT': 'edu',\n",
    "        'Nuclei Selected - DNAcontent': 'dna',\n",
    "        'Nuclei Selected - LDRTXT SER Spot 8 px' : 'ldr',\n",
    "        'Nuclei Selected - pH3INT': 'ph3'}"
   ]
  },
  {
   "cell_type": "code",
   "execution_count": null,
   "metadata": {},
   "outputs": [],
   "source": [
    "# summary level output file that is output from the automated run\n",
    "# dfs = pd.read_csv('cell_cycle_gating/examples/summary_180306_185009-V[20849].csv')\n",
    "# dfs.head()\n",
    "# dfs[dfs.well == 'C09']"
   ]
  },
  {
   "cell_type": "code",
   "execution_count": null,
   "metadata": {},
   "outputs": [],
   "source": [
    "dfs2 = mg.update_gating(obj = obj, ndict = ndict, well = well, ph3_channel=False)"
   ]
  },
  {
   "cell_type": "code",
   "execution_count": null,
   "metadata": {},
   "outputs": [],
   "source": [
    "display(dfs2)"
   ]
  },
  {
   "cell_type": "code",
   "execution_count": null,
   "metadata": {},
   "outputs": [],
   "source": [
    "#dfs2[dfs2.well == well]"
   ]
  },
  {
   "cell_type": "code",
   "execution_count": null,
   "metadata": {},
   "outputs": [],
   "source": [
    "dfs3 = mg.update_ldr_gating(obj = obj, ndict = ndict, well = well, ph3_channel=False)"
   ]
  },
  {
   "cell_type": "code",
   "execution_count": null,
   "metadata": {},
   "outputs": [],
   "source": [
    "display(dfs3)"
   ]
  }
 ],
 "metadata": {
  "kernelspec": {
   "display_name": "Python 3 (ipykernel)",
   "language": "python",
   "name": "python3"
  },
  "language_info": {
   "codemirror_mode": {
    "name": "ipython",
    "version": 3
   },
   "file_extension": ".py",
   "mimetype": "text/x-python",
   "name": "python",
   "nbconvert_exporter": "python",
   "pygments_lexer": "ipython3",
   "version": "3.10.6"
  }
 },
 "nbformat": 4,
 "nbformat_minor": 2
}
