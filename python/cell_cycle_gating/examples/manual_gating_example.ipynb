{
 "cells": [
  {
   "cell_type": "code",
   "execution_count": 1,
   "metadata": {},
   "outputs": [],
   "source": [
    "### Set path as the Drugresponse/python folder\n",
    "import os, git\n",
    "git_repo = git.Repo(\"./\",search_parent_directories=True).git.rev_parse(\"--show-toplevel\")\n",
    "path = os.path.join(git_repo, \"python\")\n",
    "os.chdir(path)"
   ]
  },
  {
   "cell_type": "code",
   "execution_count": 2,
   "metadata": {},
   "outputs": [],
   "source": [
    "#%matplotlib tk\n",
    "import pandas as pd\n",
    "from cell_cycle_gating import manual_gating as mg\n",
    "import matplotlib\n",
    "#matplotlib.pyplot.ion()"
   ]
  },
  {
   "cell_type": "code",
   "execution_count": 3,
   "metadata": {},
   "outputs": [],
   "source": [
    "# provide name of object level folder\n",
    "obj = 'cell_cycle_gating/examples/EX_01[78956]'\n",
    "\n",
    "# Provide name of well to be corrected\n",
    "well = 'C09' \n",
    "\n",
    "# summary level output file that is output from the automated run\n",
    "#dfs = pd.read_csv('summary_EX_01[78956].csv')\n",
    "\n",
    "# mapping between column names in obj_file and standardized name expected by script\n",
    "ndict = {'Nuclei Selected - EdUINT': 'edu',\n",
    "        'Nuclei Selected - DNAcontent': 'dna',\n",
    "        'Nuclei Selected - LDRTXT SER Spot 8 px' : 'ldr',\n",
    "        'Nuclei Selected - pH3INT': 'ph3'}"
   ]
  },
  {
   "cell_type": "code",
   "execution_count": null,
   "metadata": {},
   "outputs": [],
   "source": [
    "# summary level output file that is output from the automated run\n",
    "# dfs = pd.read_csv('cell_cycle_gating/examples/summary_180306_185009-V[20849].csv')\n",
    "# dfs.head()\n",
    "# dfs[dfs.well == 'C09']"
   ]
  },
  {
   "cell_type": "code",
   "execution_count": 9,
   "metadata": {},
   "outputs": [],
   "source": [
    "dfs2 = mg.update_gating(obj = obj, ndict = ndict, well = well, ph3_channel=False)"
   ]
  },
  {
   "cell_type": "code",
   "execution_count": 10,
   "metadata": {},
   "outputs": [
    {
     "data": {
      "application/vnd.jupyter.widget-view+json": {
       "model_id": "2b9e39314b43434d845d42648f4014f9",
       "version_major": 2,
       "version_minor": 0
      },
      "text/plain": [
       "interactive(children=(FloatSlider(value=5.114804175974861, description='g1_left', max=6.320173298803322, min=4…"
      ]
     },
     "metadata": {},
     "output_type": "display_data"
    }
   ],
   "source": [
    "display(dfs2)"
   ]
  },
  {
   "cell_type": "code",
   "execution_count": null,
   "metadata": {},
   "outputs": [],
   "source": [
    "#dfs2[dfs2.well == well]"
   ]
  },
  {
   "cell_type": "code",
   "execution_count": 5,
   "metadata": {},
   "outputs": [],
   "source": [
    "import numpy as np\n",
    "import matplotlib.pyplot as plt\n",
    "samp = np.random.normal(loc=0, scale=1, size=200)"
   ]
  },
  {
   "cell_type": "code",
   "execution_count": 20,
   "metadata": {},
   "outputs": [],
   "source": [
    "def ldr_gating(ldr, ldr_lower, ldr_upper):\n",
    "    ldr_gates = [ldr_lower, ldr_upper]\n",
    "    fig, ax = plt.subplots()\n",
    "    #plt.subplots_adjust(bottom=0.5)\n",
    "    plt.hist(ldr, rasterized=True)\n",
    "    # l, = plt.plot(x = [ldr_gates[0], ldr_gates[1]], ### x gates\n",
    "    #               y = [], ### y gates\n",
    "    #               fmt = '--',  color='red')\n",
    "    #l, = plt.vlines(ldr_gates, ymin = ymin, ymax = ymax)\n",
    "    l, = ax.axvline(x=0.75, color='r')\n",
    "    plt.xlabel('log10 (LDR)')\n",
    "    plt.ylabel('Frequency')\n",
    "    plt.xlim((ldr.min(), ldr.max()))\n",
    "    #plt.ylim((, ))\n",
    "    #plt.pie(fractions.values(), labels=fractions.keys())\n",
    "    plt.show()"
   ]
  },
  {
   "cell_type": "code",
   "execution_count": 21,
   "metadata": {},
   "outputs": [
    {
     "ename": "TypeError",
     "evalue": "cannot unpack non-iterable Line2D object",
     "output_type": "error",
     "traceback": [
      "\u001b[0;31m---------------------------------------------------------------------------\u001b[0m",
      "\u001b[0;31mTypeError\u001b[0m                                 Traceback (most recent call last)",
      "Cell \u001b[0;32mIn[21], line 1\u001b[0m\n\u001b[0;32m----> 1\u001b[0m ldr_gating(samp, \u001b[39m0\u001b[39;49m, \u001b[39m3\u001b[39;49m)\n",
      "Cell \u001b[0;32mIn[20], line 10\u001b[0m, in \u001b[0;36mldr_gating\u001b[0;34m(ldr, ldr_lower, ldr_upper)\u001b[0m\n\u001b[1;32m      5\u001b[0m plt\u001b[39m.\u001b[39mhist(ldr, rasterized\u001b[39m=\u001b[39m\u001b[39mTrue\u001b[39;00m)\n\u001b[1;32m      6\u001b[0m \u001b[39m# l, = plt.plot(x = [ldr_gates[0], ldr_gates[1]], ### x gates\u001b[39;00m\n\u001b[1;32m      7\u001b[0m \u001b[39m#               y = [], ### y gates\u001b[39;00m\n\u001b[1;32m      8\u001b[0m \u001b[39m#               fmt = '--',  color='red')\u001b[39;00m\n\u001b[1;32m      9\u001b[0m \u001b[39m#l, = plt.vlines(ldr_gates, ymin = ymin, ymax = ymax)\u001b[39;00m\n\u001b[0;32m---> 10\u001b[0m l, \u001b[39m=\u001b[39m ax\u001b[39m.\u001b[39maxvline(x\u001b[39m=\u001b[39m\u001b[39m0.75\u001b[39m, color\u001b[39m=\u001b[39m\u001b[39m'\u001b[39m\u001b[39mr\u001b[39m\u001b[39m'\u001b[39m)\n\u001b[1;32m     11\u001b[0m plt\u001b[39m.\u001b[39mxlabel(\u001b[39m'\u001b[39m\u001b[39mlog10 (LDR)\u001b[39m\u001b[39m'\u001b[39m)\n\u001b[1;32m     12\u001b[0m plt\u001b[39m.\u001b[39mylabel(\u001b[39m'\u001b[39m\u001b[39mFrequency\u001b[39m\u001b[39m'\u001b[39m)\n",
      "\u001b[0;31mTypeError\u001b[0m: cannot unpack non-iterable Line2D object"
     ]
    },
    {
     "data": {
      "image/png": "[encoded data removed]",
      "text/plain": [
       "<Figure size 640x480 with 1 Axes>"
      ]
     },
     "metadata": {},
     "output_type": "display_data"
    }
   ],
   "source": [
    "ldr_gating(samp, 0, 3)"
   ]
  },
  {
   "cell_type": "code",
   "execution_count": 11,
   "metadata": {},
   "outputs": [],
   "source": [
    "dfs3 = mg.update_ldr_gating(obj = obj, ndict = ndict, well = well, ph3_channel=False)"
   ]
  },
  {
   "cell_type": "code",
   "execution_count": 12,
   "metadata": {},
   "outputs": [
    {
     "data": {
      "application/vnd.jupyter.widget-view+json": {
       "model_id": "f1466e89d64f4c1181c37e50df935f74",
       "version_major": 2,
       "version_minor": 0
      },
      "text/plain": [
       "interactive(children=(FloatSlider(value=5.114577258588986, description='g1_left', max=6.320173298803322, min=4…"
      ]
     },
     "metadata": {},
     "output_type": "display_data"
    }
   ],
   "source": [
    "display(dfs3)"
   ]
  }
 ],
 "metadata": {
  "kernelspec": {
   "display_name": "Python 3 (ipykernel)",
   "language": "python",
   "name": "python3"
  },
  "language_info": {
   "codemirror_mode": {
    "name": "ipython",
    "version": 3
   },
   "file_extension": ".py",
   "mimetype": "text/x-python",
   "name": "python",
   "nbconvert_exporter": "python",
   "pygments_lexer": "ipython3",
   "version": "3.10.6"
  }
 },
 "nbformat": 4,
 "nbformat_minor": 2
}
