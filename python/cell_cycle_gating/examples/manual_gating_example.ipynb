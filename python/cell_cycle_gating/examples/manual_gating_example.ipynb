{
 "cells": [
  {
   "cell_type": "code",
   "execution_count": 1,
   "metadata": {},
   "outputs": [],
   "source": [
    "%matplotlib tk\n",
    "import pandas as pd\n",
    "from cell_cycle_gating import manual_gating as mg\n",
    "import matplotlib\n",
    "#matplotlib.pyplot.ion()"
   ]
  },
  {
   "cell_type": "code",
   "execution_count": 2,
   "metadata": {},
   "outputs": [],
   "source": [
    "# provide object level file for the well that has to be manually gated\n",
    "obj_file = '2018-03-06T184736-0500[25243]DeepDyeDrop_S100[8132618].result.F9[8132579].Population - Nuclei Selected[0].txt'\n",
    "\n",
    "ndict = {'Nuclei Selected - EdUINT': 'edu',\n",
    "        'Nuclei Selected - DNAcontent': 'dna',\n",
    "        'Nuclei Selected - LDRTXT SER Spot 8 px' : 'ldr',\n",
    "        'Nuclei Selected - pH3INT': 'ph3'}"
   ]
  },
  {
   "cell_type": "code",
   "execution_count": 3,
   "metadata": {},
   "outputs": [],
   "source": [
    "# summary level output file that is output from the automated run\n",
    "dfs = pd.read_csv('summary_180306_185009-V[20849].csv')"
   ]
  },
  {
   "cell_type": "code",
   "execution_count": null,
   "metadata": {},
   "outputs": [],
   "source": [
    "dfs.head()"
   ]
  },
  {
   "cell_type": "code",
   "execution_count": 4,
   "metadata": {},
   "outputs": [],
   "source": [
    "dfs2 = mg.manual_gating(dfs, obj_file, ndict, ph3_channel=False)"
   ]
  },
  {
   "cell_type": "code",
   "execution_count": 5,
   "metadata": {},
   "outputs": [
    {
     "data": {
      "text/html": [
       "<div>\n",
       "<style scoped>\n",
       "    .dataframe tbody tr th:only-of-type {\n",
       "        vertical-align: middle;\n",
       "    }\n",
       "\n",
       "    .dataframe tbody tr th {\n",
       "        vertical-align: top;\n",
       "    }\n",
       "\n",
       "    .dataframe thead th {\n",
       "        text-align: right;\n",
       "    }\n",
       "</style>\n",
       "<table border=\"1\" class=\"dataframe\">\n",
       "  <thead>\n",
       "    <tr style=\"text-align: right;\">\n",
       "      <th></th>\n",
       "      <th>well</th>\n",
       "      <th>cell_count__total</th>\n",
       "      <th>G1</th>\n",
       "      <th>S</th>\n",
       "      <th>G2</th>\n",
       "      <th>S_dropout</th>\n",
       "      <th>other</th>\n",
       "      <th>cell_count</th>\n",
       "      <th>cell_count__dead</th>\n",
       "      <th>corpse_count</th>\n",
       "    </tr>\n",
       "  </thead>\n",
       "  <tbody>\n",
       "    <tr>\n",
       "      <th>47</th>\n",
       "      <td>F09</td>\n",
       "      <td>760.0</td>\n",
       "      <td>0.581579</td>\n",
       "      <td>0.009211</td>\n",
       "      <td>0.014474</td>\n",
       "      <td>0.009211</td>\n",
       "      <td>0.385526</td>\n",
       "      <td>664.0</td>\n",
       "      <td>96.0</td>\n",
       "      <td>38</td>\n",
       "    </tr>\n",
       "  </tbody>\n",
       "</table>\n",
       "</div>"
      ],
      "text/plain": [
       "   well  cell_count__total        G1         S        G2  S_dropout     other  \\\n",
       "47  F09              760.0  0.581579  0.009211  0.014474   0.009211  0.385526   \n",
       "\n",
       "    cell_count  cell_count__dead  corpse_count  \n",
       "47       664.0              96.0            38  "
      ]
     },
     "execution_count": 5,
     "metadata": {},
     "output_type": "execute_result"
    }
   ],
   "source": [
    "dfs[dfs.well == 'F09']"
   ]
  },
  {
   "cell_type": "code",
   "execution_count": null,
   "metadata": {},
   "outputs": [],
   "source": []
  },
  {
   "cell_type": "code",
   "execution_count": 6,
   "metadata": {},
   "outputs": [
    {
     "data": {
      "text/html": [
       "<div>\n",
       "<style scoped>\n",
       "    .dataframe tbody tr th:only-of-type {\n",
       "        vertical-align: middle;\n",
       "    }\n",
       "\n",
       "    .dataframe tbody tr th {\n",
       "        vertical-align: top;\n",
       "    }\n",
       "\n",
       "    .dataframe thead th {\n",
       "        text-align: right;\n",
       "    }\n",
       "</style>\n",
       "<table border=\"1\" class=\"dataframe\">\n",
       "  <thead>\n",
       "    <tr style=\"text-align: right;\">\n",
       "      <th></th>\n",
       "      <th>well</th>\n",
       "      <th>cell_count__total</th>\n",
       "      <th>G1</th>\n",
       "      <th>S</th>\n",
       "      <th>G2</th>\n",
       "      <th>S_dropout</th>\n",
       "      <th>other</th>\n",
       "      <th>cell_count</th>\n",
       "      <th>cell_count__dead</th>\n",
       "      <th>corpse_count</th>\n",
       "    </tr>\n",
       "  </thead>\n",
       "  <tbody>\n",
       "    <tr>\n",
       "      <th>59</th>\n",
       "      <td>F09</td>\n",
       "      <td>760.0</td>\n",
       "      <td>0.185526</td>\n",
       "      <td>0.156579</td>\n",
       "      <td>0.475</td>\n",
       "      <td>0.017105</td>\n",
       "      <td>0.165789</td>\n",
       "      <td>628.0</td>\n",
       "      <td>132.0</td>\n",
       "      <td>38</td>\n",
       "    </tr>\n",
       "  </tbody>\n",
       "</table>\n",
       "</div>"
      ],
      "text/plain": [
       "   well  cell_count__total        G1         S     G2  S_dropout     other  \\\n",
       "59  F09              760.0  0.185526  0.156579  0.475   0.017105  0.165789   \n",
       "\n",
       "    cell_count  cell_count__dead  corpse_count  \n",
       "59       628.0             132.0            38  "
      ]
     },
     "execution_count": 6,
     "metadata": {},
     "output_type": "execute_result"
    }
   ],
   "source": [
    "dfs2[dfs2.well == 'F09']"
   ]
  },
  {
   "cell_type": "code",
   "execution_count": null,
   "metadata": {},
   "outputs": [],
   "source": []
  },
  {
   "cell_type": "code",
   "execution_count": null,
   "metadata": {},
   "outputs": [],
   "source": []
  }
 ],
 "metadata": {
  "kernelspec": {
   "display_name": "Python 3",
   "language": "python",
   "name": "python3"
  },
  "language_info": {
   "codemirror_mode": {
    "name": "ipython",
    "version": 3
   },
   "file_extension": ".py",
   "mimetype": "text/x-python",
   "name": "python",
   "nbconvert_exporter": "python",
   "pygments_lexer": "ipython3",
   "version": "3.6.5"
  }
 },
 "nbformat": 4,
 "nbformat_minor": 2
}
