{
 "cells": [
  {
   "cell_type": "code",
   "execution_count": null,
   "id": "2d80a8b4-f825-4395-9121-80081b942bf8",
   "metadata": {},
   "outputs": [],
   "source": [
    "import os\n",
    "import glob\n",
    "import re\n",
    "import pandas as pd\n",
    "import string"
   ]
  },
  {
   "cell_type": "code",
   "execution_count": null,
   "id": "c2ce6b24-60fa-456e-b700-49ddf1a8c54e",
   "metadata": {},
   "outputs": [],
   "source": []
  },
  {
   "cell_type": "code",
   "execution_count": null,
   "id": "fa6eb684-91f5-440b-9613-542a0d7fa508",
   "metadata": {},
   "outputs": [],
   "source": [
    "all_well_rows = string.ascii_uppercase[0:16]\n",
    "all_well_cols = [str(num).zfill(2) for num in range(1,25)]\n",
    "valid_well_rows = all_well_rows[2:14]\n",
    "valid_well_cols = all_well_cols[2:22]\n",
    "#print(valid_well_rows)\n",
    "#print(valid_well_cols)\n",
    "### get all wells\n",
    "all_wells = [row + col for row in all_well_rows for col in all_well_cols]\n",
    "all_wells.sort()\n",
    "#print(all_wells)\n",
    "### get valid wells\n",
    "valid_wells = [row + col for row in valid_well_rows for col in valid_well_cols]\n",
    "valid_wells.sort()\n",
    "#print(valid_wells)\n",
    "\n",
    "folder_dict = {\n",
    "        '2020-11-17':'rep3',\n",
    "        '2021-02-19':'rep4',\n",
    "        '2021-02-26':'rep5',\n",
    "        '2021-03-02':'rep6',\n",
    "        '2021-04-06':'rep7',\n",
    "        '2021-04-23':'rep8',\n",
    "        '2021-05-18':'rep9',\n",
    "        '2021-05-21':'rep10',\n",
    "        '2021-06-11':'rep11',\n",
    "        '2021-07-27':'2_rep1/210727-combo-rep1',\n",
    "        '2021-07-30':'2_rep2/210730_combo_rep2',\n",
    "        '2021-08-06':'2_rep3/210806_combo_rep3',\n",
    "        '2021-10-05':'redo_rep1_and_2',\n",
    "        '2021-10-15':'redo_rep1_and_2/redo_rep2',\n",
    "        '2021-10-29':'redo_rep3'\n",
    "    }\n",
    "\n",
    "\n",
    "def read_well_data(date, barcode, well):\n",
    "    ff = get_well_file(date, barcode, well)\n",
    "    df = pd.read_csv(ff)\n",
    "    return(df)\n",
    "\n",
    "def get_well_file(date, barcode, well):\n",
    "    data_dir = get_data_dir(date, barcode)\n",
    "    ### example file style\n",
    "    f1 = barcode+\".result.\"+well+\"[test].csv\"\n",
    "    #f2 = barcode+\".result.\"+well+\"[test].csv\"\n",
    "    files = os.listdir(data_dir)\n",
    "    if f1 in files:\n",
    "        well_file = os.path.join(data_dir, f1)\n",
    "    else:\n",
    "        print(\"well csv not found!\")\n",
    "    return(well_file)\n",
    "\n",
    "\n",
    "## input date: e.g. '2021-10-15'\n",
    "## output: list of barcodes e.g. '211015_combo_173'\n",
    "def get_barcodes(date):\n",
    "    date_formatted = date_format_switch(date)\n",
    "    main_dir = get_data_dir(date)\n",
    "    dirs = [ x for x in os.listdir(main_dir) if os.path.isdir( os.path.join(main_dir, x) )]\n",
    "    ### match date at the start of the sub-directory\n",
    "    dirs_barcodes = [ x for x in dirs if bool(re.match(date_formatted+\"_combo\", x)) ]\n",
    "    return( dirs_barcodes )\n",
    "\n",
    "## input date: e.g. '2021-02-19'\n",
    "## output: e.g. '210219'\n",
    "def date_format_switch(date):\n",
    "    new_str = date[2:4] + date[5:7] + date[8:10]\n",
    "    return(new_str)\n",
    "\n",
    "def get_data_dir(date, barcode=None, base_dir = \"/mnt/y/lsp-analysis/LINCS-combinations/\"):\n",
    "    ### note: using unix folder conventions -- would need to re-write for Windows\n",
    "    ### set for osx\n",
    "    if not os.path.exists(base_dir):\n",
    "        base_dir = \"/Volumes/hits/lsp-analysis/LINCS-combinations/\"\n",
    "    if barcode == None:\n",
    "        plate_dir = ''\n",
    "    else:\n",
    "        plate_dir = barcode\n",
    "    local_dir = folder_dict[date]\n",
    "    full_dir = os.path.join(base_dir, local_dir, plate_dir)\n",
    "    return(full_dir)"
   ]
  },
  {
   "cell_type": "code",
   "execution_count": null,
   "id": "cf48eee3-f9aa-4eb0-9d00-e9fa70c10e80",
   "metadata": {},
   "outputs": [],
   "source": [
    "get_data_dir('2021-02-19')\n",
    "get_data_dir('2021-10-15', \"211015_combo_176\")"
   ]
  },
  {
   "cell_type": "code",
   "execution_count": null,
   "id": "dd305908-488e-4d2e-9ed4-f9cdd9e61982",
   "metadata": {},
   "outputs": [],
   "source": [
    "date_format_switch(\"2021-02-19\")"
   ]
  },
  {
   "cell_type": "code",
   "execution_count": null,
   "id": "72c91c2c-dbf5-477a-b662-edded0c164ee",
   "metadata": {},
   "outputs": [],
   "source": [
    "re.search(\"234\", \"abdsf234\")"
   ]
  },
  {
   "cell_type": "code",
   "execution_count": null,
   "id": "54049bf7-7e3e-46cb-9760-a6ed08768d39",
   "metadata": {},
   "outputs": [],
   "source": [
    "get_barcodes('2021-10-15')"
   ]
  },
  {
   "cell_type": "code",
   "execution_count": null,
   "id": "58dab2d9-4f89-4423-a602-d848cde681d4",
   "metadata": {},
   "outputs": [],
   "source": []
  },
  {
   "cell_type": "code",
   "execution_count": null,
   "id": "46f7415a-cc80-4c2d-b692-752255edf451",
   "metadata": {
    "scrolled": true
   },
   "outputs": [],
   "source": [
    "df = read_well_data('2021-10-15', '211015_combo_173', 'C05')\n",
    "df.columns"
   ]
  },
  {
   "cell_type": "code",
   "execution_count": null,
   "id": "17741e86-f6b6-4bfa-afc9-e3da02cb0fbb",
   "metadata": {
    "scrolled": true
   },
   "outputs": [],
   "source": [
    "### get column names for each date\n",
    "for date in folder_dict.keys():\n",
    "    print(date)\n",
    "    barcodes = get_barcodes(date)\n",
    "    barcodes.sort()\n",
    "    test_plate = barcodes[0]\n",
    "    df = read_well_data(date, test_plate, 'D06')\n",
    "    print(df.columns)"
   ]
  },
  {
   "cell_type": "code",
   "execution_count": null,
   "id": "4b9afacb-3f65-4858-a61c-c9f709bb5cd3",
   "metadata": {},
   "outputs": [],
   "source": []
  },
  {
   "cell_type": "code",
   "execution_count": null,
   "id": "1a528088-b254-4ee8-b13c-c59e11b9b8b6",
   "metadata": {},
   "outputs": [],
   "source": [
    "for date in list(folder_dict.keys()):\n",
    "    print(date)\n",
    "    barcodes = get_barcodes(date)\n",
    "    barcodes.sort()\n",
    "    for barcode in barcodes:\n",
    "        #df = read_well_data(date, plate, 'D06')\n",
    "        #print(df.columns)\n",
    "        print(barcode)\n",
    "        data_dir = get_data_dir(date, barcode)\n",
    "        #all_files = [ file for file in os.listdir(data_dir) if not os.path.isdir( os.path.join(data_dir, file) )]\n",
    "        #csvs = [ file for file in all_files if file.endswith(\"csv\") ]\n",
    "        #well_files = [ file for file in csvs if file.startswith(barcode)]\n",
    "        #well_files.sort()\n",
    "        #print(len(well_files))\n",
    "        #print(well_files[0])\n",
    "        missing = False\n",
    "        for well in valid_wells:\n",
    "            ### example file style\n",
    "            f1 = barcode+\".result.\"+well+\"[test].csv\"\n",
    "            f1_full = os.path.join(data_dir, f1)\n",
    "            check = os.path.exists( f1_full )\n",
    "            if not check:\n",
    "                #print(well)\n",
    "                missing = True\n",
    "        if missing:\n",
    "            print(\"missing some\")"
   ]
  },
  {
   "cell_type": "code",
   "execution_count": null,
   "id": "b7a82011-1db4-44ed-82a7-700a32493202",
   "metadata": {},
   "outputs": [],
   "source": [
    "test = list(folder_dict.keys())\n",
    "test[0]"
   ]
  }
 ],
 "metadata": {
  "kernelspec": {
   "display_name": "Python 3 (ipykernel)",
   "language": "python",
   "name": "python3"
  },
  "language_info": {
   "codemirror_mode": {
    "name": "ipython",
    "version": 3
   },
   "file_extension": ".py",
   "mimetype": "text/x-python",
   "name": "python",
   "nbconvert_exporter": "python",
   "pygments_lexer": "ipython3",
   "version": "3.10.8"
  }
 },
 "nbformat": 4,
 "nbformat_minor": 5
}
