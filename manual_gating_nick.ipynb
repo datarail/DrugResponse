{
 "cells": [
  {
   "cell_type": "code",
   "execution_count": 1,
   "id": "22041a0c-3744-411d-a33a-716807125ce7",
   "metadata": {},
   "outputs": [],
   "source": [
    "import pandas as pd\n",
    "from cell_cycle_gating import manual_gating as mg\n",
    "from cell_cycle_gating import dead_cell_filter_ldrint as dcf_int\n",
    "import matplotlib\n",
    "import numpy as np\n",
    "import matplotlib.pyplot as plt"
   ]
  },
  {
   "cell_type": "code",
   "execution_count": 2,
   "id": "30d0a5d9-3cbe-456f-a90a-e97e46bc48b9",
   "metadata": {},
   "outputs": [],
   "source": [
    "### define channel names and well/file to be updated\n",
    "\n",
    "#well = 'K04' ## bad well\n",
    "well = 'K03' ## good well\n",
    "\n",
    "obj = \"/mnt/y/lsp-analysis/LINCS-combinations/rep8/210423_combo_78/210423_combo_78.result.\"+well+\"[test].csv\"\n",
    "ndict = {'Well Name':'well',\n",
    "         'ldrint': 'ldr',\n",
    "        'Cell: DNAcontent (DD-bckgrnd)': 'dna'\n",
    "        }\n"
   ]
  },
  {
   "cell_type": "code",
   "execution_count": 3,
   "id": "cddc627f-72c8-4086-b503-38c12047aa55",
   "metadata": {},
   "outputs": [
    {
     "name": "stdout",
     "output_type": "stream",
     "text": [
      "[      -inf 3.50939971]\n"
     ]
    },
    {
     "name": "stderr",
     "output_type": "stream",
     "text": [
      "/home/nick/mambaforge/lib/python3.10/site-packages/pandas/core/arraylike.py:396: RuntimeWarning: invalid value encountered in log10\n",
      "  result = getattr(ufunc, method)(*inputs, **kwargs)\n"
     ]
    },
    {
     "data": {
      "text/html": [
       "<div>\n",
       "<style scoped>\n",
       "    .dataframe tbody tr th:only-of-type {\n",
       "        vertical-align: middle;\n",
       "    }\n",
       "\n",
       "    .dataframe tbody tr th {\n",
       "        vertical-align: top;\n",
       "    }\n",
       "\n",
       "    .dataframe thead th {\n",
       "        text-align: right;\n",
       "    }\n",
       "</style>\n",
       "<table border=\"1\" class=\"dataframe\">\n",
       "  <thead>\n",
       "    <tr style=\"text-align: right;\">\n",
       "      <th></th>\n",
       "      <th>barcode</th>\n",
       "      <th>well</th>\n",
       "      <th>alive</th>\n",
       "      <th>alive_subg1</th>\n",
       "      <th>alive_beyondg2</th>\n",
       "      <th>dead_ldrpos</th>\n",
       "      <th>dead_subg1</th>\n",
       "      <th>cell_count</th>\n",
       "      <th>cell_count__dead</th>\n",
       "      <th>cell_count__total</th>\n",
       "    </tr>\n",
       "  </thead>\n",
       "  <tbody>\n",
       "    <tr>\n",
       "      <th>0</th>\n",
       "      <td>/mnt/y/lsp-analysis/LINCS-combinations/rep8/21...</td>\n",
       "      <td>K03</td>\n",
       "      <td>1536</td>\n",
       "      <td>22</td>\n",
       "      <td>58</td>\n",
       "      <td>64</td>\n",
       "      <td>18</td>\n",
       "      <td>1616</td>\n",
       "      <td>82</td>\n",
       "      <td>1698</td>\n",
       "    </tr>\n",
       "  </tbody>\n",
       "</table>\n",
       "</div>"
      ],
      "text/plain": [
       "                                             barcode well  alive  alive_subg1  \\\n",
       "0  /mnt/y/lsp-analysis/LINCS-combinations/rep8/21...  K03   1536           22   \n",
       "\n",
       "   alive_beyondg2  dead_ldrpos  dead_subg1  cell_count  cell_count__dead  \\\n",
       "0              58           64          18        1616                82   \n",
       "\n",
       "   cell_count__total  \n",
       "0               1698  "
      ]
     },
     "execution_count": 3,
     "metadata": {},
     "output_type": "execute_result"
    }
   ],
   "source": [
    "well = 'K03'\n",
    "f = \"210423_combo_78.result.\"+well+\"[test].csv\"\n",
    "dcf_int.get_counts(batch=\"/mnt/y/lsp-analysis/LINCS-combinations/rep8/210423_combo_78\", filename=f, ndict = ndict, is_csv=True)"
   ]
  },
  {
   "cell_type": "code",
   "execution_count": 11,
   "id": "c4e33f82-04c9-4b25-b0cd-d0ede79be663",
   "metadata": {},
   "outputs": [
    {
     "name": "stdout",
     "output_type": "stream",
     "text": [
      "[     -inf 1.3688373]\n"
     ]
    },
    {
     "name": "stderr",
     "output_type": "stream",
     "text": [
      "/home/nick/mambaforge/lib/python3.10/site-packages/pandas/core/arraylike.py:396: RuntimeWarning: invalid value encountered in log10\n",
      "  result = getattr(ufunc, method)(*inputs, **kwargs)\n"
     ]
    },
    {
     "data": {
      "text/html": [
       "<div>\n",
       "<style scoped>\n",
       "    .dataframe tbody tr th:only-of-type {\n",
       "        vertical-align: middle;\n",
       "    }\n",
       "\n",
       "    .dataframe tbody tr th {\n",
       "        vertical-align: top;\n",
       "    }\n",
       "\n",
       "    .dataframe thead th {\n",
       "        text-align: right;\n",
       "    }\n",
       "</style>\n",
       "<table border=\"1\" class=\"dataframe\">\n",
       "  <thead>\n",
       "    <tr style=\"text-align: right;\">\n",
       "      <th></th>\n",
       "      <th>barcode</th>\n",
       "      <th>well</th>\n",
       "      <th>alive</th>\n",
       "      <th>alive_subg1</th>\n",
       "      <th>alive_beyondg2</th>\n",
       "      <th>dead_ldrpos</th>\n",
       "      <th>dead_subg1</th>\n",
       "      <th>cell_count</th>\n",
       "      <th>cell_count__dead</th>\n",
       "      <th>cell_count__total</th>\n",
       "    </tr>\n",
       "  </thead>\n",
       "  <tbody>\n",
       "    <tr>\n",
       "      <th>0</th>\n",
       "      <td>/mnt/y/lsp-analysis/LINCS-combinations/rep8/21...</td>\n",
       "      <td>K06</td>\n",
       "      <td>74</td>\n",
       "      <td>5</td>\n",
       "      <td>2</td>\n",
       "      <td>1252</td>\n",
       "      <td>4</td>\n",
       "      <td>81</td>\n",
       "      <td>1256</td>\n",
       "      <td>1337</td>\n",
       "    </tr>\n",
       "  </tbody>\n",
       "</table>\n",
       "</div>"
      ],
      "text/plain": [
       "                                             barcode well  alive  alive_subg1  \\\n",
       "0  /mnt/y/lsp-analysis/LINCS-combinations/rep8/21...  K06     74            5   \n",
       "\n",
       "   alive_beyondg2  dead_ldrpos  dead_subg1  cell_count  cell_count__dead  \\\n",
       "0               2         1252           4          81              1256   \n",
       "\n",
       "   cell_count__total  \n",
       "0               1337  "
      ]
     },
     "execution_count": 11,
     "metadata": {},
     "output_type": "execute_result"
    }
   ],
   "source": [
    "well = 'K06'\n",
    "f = \"210423_combo_78.result.\"+well+\"[test].csv\"\n",
    "dcf_int.get_counts(batch=\"/mnt/y/lsp-analysis/LINCS-combinations/rep8/210423_combo_78\", filename=f, ndict = ndict, is_csv=True)\n",
    "### testing with higher peak_loc value (default was 1.2)\n",
    "#dcf_int.get_counts(batch=\"/mnt/y/lsp-analysis/LINCS-combinations/rep8/210423_combo_78\", filename=f, ndict = ndict, is_csv=True, peak_loc = 2)"
   ]
  },
  {
   "cell_type": "code",
   "execution_count": null,
   "id": "f97fc0f3-097c-4137-bdeb-03874bc73828",
   "metadata": {},
   "outputs": [],
   "source": [
    "well = \"K04\"\n",
    "obj = \"/mnt/y/lsp-analysis/LINCS-combinations/rep8/210423_combo_78/210423_combo_78.result.\"+well+\"[test].csv\"\n",
    "y = mg.update_ldr_gating(obj, well, ndict, plot_ldr_log10=True, plot_with_dna = False, is_ldrint = True, is_csv=True)\n",
    "display(y)"
   ]
  },
  {
   "cell_type": "code",
   "execution_count": null,
   "id": "b3b4394a-8588-4547-b50d-0f448d261b6d",
   "metadata": {},
   "outputs": [],
   "source": [
    "well = \"K03\"\n",
    "obj = \"/mnt/y/lsp-analysis/LINCS-combinations/rep8/210423_combo_78/210423_combo_78.result.\"+well+\"[test].csv\"\n",
    "y = mg.update_ldr_gating(obj, well, ndict, plot_ldr_log10=True, plot_with_dna = False, is_ldrint = True, is_csv=True)\n",
    "display(y)"
   ]
  },
  {
   "cell_type": "code",
   "execution_count": null,
   "id": "bd26e3de-756c-4221-8ecb-d6ab771111e2",
   "metadata": {},
   "outputs": [],
   "source": [
    "#### no edu for this sample -- can't update gates with the other function\n",
    "#z = mg.update_gating(obj, well, ndict, is_ldrint = True, is_csv=True)\n",
    "#display(z)"
   ]
  },
  {
   "cell_type": "code",
   "execution_count": null,
   "id": "868615bb-df7b-44c8-a159-b7f75bf22ff1",
   "metadata": {
    "scrolled": true
   },
   "outputs": [],
   "source": [
    "dfo = pd.read_csv(obj)\n",
    "#dfo.sort_values(by=['ldrint'], ascending = False)"
   ]
  },
  {
   "cell_type": "code",
   "execution_count": null,
   "id": "971fe309-264c-4d87-ad7f-c3b2b496679f",
   "metadata": {},
   "outputs": [],
   "source": [
    "f"
   ]
  },
  {
   "cell_type": "code",
   "execution_count": null,
   "id": "da33d9ea-9e9f-473d-b125-aeed40840e27",
   "metadata": {},
   "outputs": [],
   "source": [
    "np.sum(np.isnan(dfo.ldrint))"
   ]
  },
  {
   "cell_type": "code",
   "execution_count": null,
   "id": "2bdd3e4a-29e4-4cdb-b852-cbc2e693c94b",
   "metadata": {},
   "outputs": [],
   "source": [
    "plt.hist(np.log10(dfo.ldrint))"
   ]
  },
  {
   "cell_type": "code",
   "execution_count": null,
   "id": "cafa3476-2a50-4bf1-a330-c78d7d558351",
   "metadata": {},
   "outputs": [],
   "source": [
    "np.arange(0, dfo.ldrint.max(), 100)"
   ]
  }
 ],
 "metadata": {
  "kernelspec": {
   "display_name": "Python 3 (ipykernel)",
   "language": "python",
   "name": "python3"
  },
  "language_info": {
   "codemirror_mode": {
    "name": "ipython",
    "version": 3
   },
   "file_extension": ".py",
   "mimetype": "text/x-python",
   "name": "python",
   "nbconvert_exporter": "python",
   "pygments_lexer": "ipython3",
   "version": "3.10.10"
  }
 },
 "nbformat": 4,
 "nbformat_minor": 5
}
