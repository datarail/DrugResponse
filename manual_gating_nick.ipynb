{
 "cells": [
  {
   "cell_type": "code",
   "execution_count": 1,
   "id": "22041a0c-3744-411d-a33a-716807125ce7",
   "metadata": {},
   "outputs": [],
   "source": [
    "import pandas as pd\n",
    "from cell_cycle_gating import manual_gating as mg\n",
    "from cell_cycle_gating import dead_cell_filter_ldrint as dcf_int\n",
    "import matplotlib\n",
    "import numpy as np\n",
    "import matplotlib.pyplot as plt"
   ]
  },
  {
   "cell_type": "code",
   "execution_count": 2,
   "id": "30d0a5d9-3cbe-456f-a90a-e97e46bc48b9",
   "metadata": {},
   "outputs": [],
   "source": [
    "### define channel names and well/file to be updated\n",
    "\n",
    "#well = 'K04' ## bad well\n",
    "well = 'K03' ## good well\n",
    "\n",
    "#obj = \"/mnt/y/lsp-analysis/LINCS-combinations/rep8/210423_combo_78/210423_combo_78.result.\"+well+\"[test].csv\"\n",
    "obj = \"/Volumes/hits/lsp-analysis/LINCS-combinations/rep8/210423_combo_78/210423_combo_78.result.\"+well+\"[test].csv\"\n",
    "\n",
    "ndict = {'Well Name':'well',\n",
    "         'ldrint': 'ldr',\n",
    "        'Cell: DNAcontent (DD-bckgrnd)': 'dna'\n",
    "        }\n"
   ]
  },
  {
   "cell_type": "code",
   "execution_count": 3,
   "id": "cddc627f-72c8-4086-b503-38c12047aa55",
   "metadata": {},
   "outputs": [
    {
     "name": "stdout",
     "output_type": "stream",
     "text": [
      "[      -inf 3.50939971]\n"
     ]
    },
    {
     "name": "stderr",
     "output_type": "stream",
     "text": [
      "/Users/nickclark/miniforge3/lib/python3.10/site-packages/pandas/core/arraylike.py:402: RuntimeWarning: invalid value encountered in log10\n",
      "  result = getattr(ufunc, method)(*inputs, **kwargs)\n"
     ]
    },
    {
     "data": {
      "text/html": [
       "<div>\n",
       "<style scoped>\n",
       "    .dataframe tbody tr th:only-of-type {\n",
       "        vertical-align: middle;\n",
       "    }\n",
       "\n",
       "    .dataframe tbody tr th {\n",
       "        vertical-align: top;\n",
       "    }\n",
       "\n",
       "    .dataframe thead th {\n",
       "        text-align: right;\n",
       "    }\n",
       "</style>\n",
       "<table border=\"1\" class=\"dataframe\">\n",
       "  <thead>\n",
       "    <tr style=\"text-align: right;\">\n",
       "      <th></th>\n",
       "      <th>barcode</th>\n",
       "      <th>well</th>\n",
       "      <th>alive</th>\n",
       "      <th>alive_subg1</th>\n",
       "      <th>alive_beyondg2</th>\n",
       "      <th>dead_ldrpos</th>\n",
       "      <th>dead_subg1</th>\n",
       "      <th>cell_count</th>\n",
       "      <th>cell_count__dead</th>\n",
       "      <th>cell_count__total</th>\n",
       "    </tr>\n",
       "  </thead>\n",
       "  <tbody>\n",
       "    <tr>\n",
       "      <th>0</th>\n",
       "      <td>/Volumes/hits/lsp-analysis/LINCS-combinations/...</td>\n",
       "      <td>K03</td>\n",
       "      <td>1536</td>\n",
       "      <td>22</td>\n",
       "      <td>58</td>\n",
       "      <td>64</td>\n",
       "      <td>18</td>\n",
       "      <td>1616</td>\n",
       "      <td>82</td>\n",
       "      <td>1698</td>\n",
       "    </tr>\n",
       "  </tbody>\n",
       "</table>\n",
       "</div>"
      ],
      "text/plain": [
       "                                             barcode well  alive  alive_subg1  \\\n",
       "0  /Volumes/hits/lsp-analysis/LINCS-combinations/...  K03   1536           22   \n",
       "\n",
       "   alive_beyondg2  dead_ldrpos  dead_subg1  cell_count  cell_count__dead  \\\n",
       "0              58           64          18        1616                82   \n",
       "\n",
       "   cell_count__total  \n",
       "0               1698  "
      ]
     },
     "execution_count": 3,
     "metadata": {},
     "output_type": "execute_result"
    }
   ],
   "source": [
    "well = 'K03'\n",
    "f = \"210423_combo_78.result.\"+well+\"[test].csv\"\n",
    "#batch = \"/mnt/y/lsp-analysis/LINCS-combinations/rep8/210423_combo_78\"\n",
    "batch = \"/Volumes/hits/lsp-analysis/LINCS-combinations/rep8/210423_combo_78\"\n",
    "dcf_int.get_counts(batch=batch, filename=f, ndict = ndict, is_csv=True)"
   ]
  },
  {
   "cell_type": "code",
   "execution_count": 4,
   "id": "c4e33f82-04c9-4b25-b0cd-d0ede79be663",
   "metadata": {},
   "outputs": [
    {
     "name": "stdout",
     "output_type": "stream",
     "text": [
      "[      -inf 1.33234865]\n"
     ]
    },
    {
     "name": "stderr",
     "output_type": "stream",
     "text": [
      "/Users/nickclark/miniforge3/lib/python3.10/site-packages/pandas/core/arraylike.py:402: RuntimeWarning: invalid value encountered in log10\n",
      "  result = getattr(ufunc, method)(*inputs, **kwargs)\n"
     ]
    },
    {
     "data": {
      "text/html": [
       "<div>\n",
       "<style scoped>\n",
       "    .dataframe tbody tr th:only-of-type {\n",
       "        vertical-align: middle;\n",
       "    }\n",
       "\n",
       "    .dataframe tbody tr th {\n",
       "        vertical-align: top;\n",
       "    }\n",
       "\n",
       "    .dataframe thead th {\n",
       "        text-align: right;\n",
       "    }\n",
       "</style>\n",
       "<table border=\"1\" class=\"dataframe\">\n",
       "  <thead>\n",
       "    <tr style=\"text-align: right;\">\n",
       "      <th></th>\n",
       "      <th>barcode</th>\n",
       "      <th>well</th>\n",
       "      <th>alive</th>\n",
       "      <th>alive_subg1</th>\n",
       "      <th>alive_beyondg2</th>\n",
       "      <th>dead_ldrpos</th>\n",
       "      <th>dead_subg1</th>\n",
       "      <th>cell_count</th>\n",
       "      <th>cell_count__dead</th>\n",
       "      <th>cell_count__total</th>\n",
       "    </tr>\n",
       "  </thead>\n",
       "  <tbody>\n",
       "    <tr>\n",
       "      <th>0</th>\n",
       "      <td>/Volumes/hits/lsp-analysis/LINCS-combinations/...</td>\n",
       "      <td>K04</td>\n",
       "      <td>101</td>\n",
       "      <td>7</td>\n",
       "      <td>3</td>\n",
       "      <td>1476</td>\n",
       "      <td>12</td>\n",
       "      <td>111</td>\n",
       "      <td>1488</td>\n",
       "      <td>1599</td>\n",
       "    </tr>\n",
       "  </tbody>\n",
       "</table>\n",
       "</div>"
      ],
      "text/plain": [
       "                                             barcode well  alive  alive_subg1  \\\n",
       "0  /Volumes/hits/lsp-analysis/LINCS-combinations/...  K04    101            7   \n",
       "\n",
       "   alive_beyondg2  dead_ldrpos  dead_subg1  cell_count  cell_count__dead  \\\n",
       "0               3         1476          12         111              1488   \n",
       "\n",
       "   cell_count__total  \n",
       "0               1599  "
      ]
     },
     "execution_count": 4,
     "metadata": {},
     "output_type": "execute_result"
    }
   ],
   "source": [
    "well = 'K04'\n",
    "f = \"210423_combo_78.result.\"+well+\"[test].csv\"\n",
    "#batch = \"/mnt/y/lsp-analysis/LINCS-combinations/rep8/210423_combo_78\"\n",
    "batch = \"/Volumes/hits/lsp-analysis/LINCS-combinations/rep8/210423_combo_78\"\n",
    "dcf_int.get_counts(batch=batch, filename=f, ndict = ndict, is_csv=True)\n",
    "### testing with higher peak_loc value (default was 1.2)\n",
    "#dcf_int.get_counts(batch=\"/mnt/y/lsp-analysis/LINCS-combinations/rep8/210423_combo_78\", filename=f, ndict = ndict, is_csv=True, peak_loc = 2)"
   ]
  },
  {
   "cell_type": "code",
   "execution_count": 5,
   "id": "f97fc0f3-097c-4137-bdeb-03874bc73828",
   "metadata": {},
   "outputs": [
    {
     "name": "stderr",
     "output_type": "stream",
     "text": [
      "/Users/nickclark/git/DrugResponse/python/cell_cycle_gating/dead_cell_filter_ldrint.py:244: RuntimeWarning: invalid value encountered in log10\n",
      "  logint = np.log10(ldrint)\n",
      "/Users/nickclark/git/DrugResponse/python/cell_cycle_gating/dead_cell_filter_ldrint.py:102: RuntimeWarning: invalid value encountered in log10\n",
      "  logint = np.log10(ldrint)\n",
      "/Users/nickclark/git/DrugResponse/python/cell_cycle_gating/dead_cell_filter_ldrint.py:151: RuntimeWarning: invalid value encountered in log10\n",
      "  logint = np.log10(ldrint)\n",
      "/Users/nickclark/git/DrugResponse/python/cell_cycle_gating/dead_cell_filter_ldrint.py:319: RuntimeWarning: invalid value encountered in log10\n",
      "  logint = np.log10(ldrint)\n"
     ]
    },
    {
     "data": {
      "application/vnd.jupyter.widget-view+json": {
       "model_id": "ba4913adaf2e4783bb9482a7c5966524",
       "version_major": 2,
       "version_minor": 0
      },
      "text/plain": [
       "interactive(children=(FloatSlider(value=3.5093997105083767, description='ldr_cutoff', max=4.361394611425605, m…"
      ]
     },
     "metadata": {},
     "output_type": "display_data"
    }
   ],
   "source": [
    "well = \"K03\"\n",
    "#obj = \"/mnt/y/lsp-analysis/LINCS-combinations/rep8/210423_combo_78/210423_combo_78.result.\"+well+\"[test].csv\"\n",
    "obj = \"/Volumes/hits/lsp-analysis/LINCS-combinations/rep8/210423_combo_78/210423_combo_78.result.\"+well+\"[test].csv\"\n",
    "\n",
    "y = mg.update_ldr_gating(obj, well, ndict, plot_ldr_log10=True, plot_with_dna = True, is_ldrint = True, is_csv=True)\n",
    "display(y)"
   ]
  },
  {
   "cell_type": "code",
   "execution_count": 6,
   "id": "b3b4394a-8588-4547-b50d-0f448d261b6d",
   "metadata": {},
   "outputs": [
    {
     "name": "stderr",
     "output_type": "stream",
     "text": [
      "/Users/nickclark/git/DrugResponse/python/cell_cycle_gating/dead_cell_filter_ldrint.py:244: RuntimeWarning: invalid value encountered in log10\n",
      "  logint = np.log10(ldrint)\n",
      "/Users/nickclark/git/DrugResponse/python/cell_cycle_gating/dead_cell_filter_ldrint.py:102: RuntimeWarning: invalid value encountered in log10\n",
      "  logint = np.log10(ldrint)\n",
      "/Users/nickclark/git/DrugResponse/python/cell_cycle_gating/dead_cell_filter_ldrint.py:151: RuntimeWarning: invalid value encountered in log10\n",
      "  logint = np.log10(ldrint)\n",
      "/Users/nickclark/git/DrugResponse/python/cell_cycle_gating/dead_cell_filter_ldrint.py:319: RuntimeWarning: invalid value encountered in log10\n",
      "  logint = np.log10(ldrint)\n"
     ]
    },
    {
     "data": {
      "application/vnd.jupyter.widget-view+json": {
       "model_id": "624f900e95384fe881299b8f1299daac",
       "version_major": 2,
       "version_minor": 0
      },
      "text/plain": [
       "interactive(children=(FloatSlider(value=1.3323486469448813, description='ldr_cutoff', max=4.365333849998564, m…"
      ]
     },
     "metadata": {},
     "output_type": "display_data"
    }
   ],
   "source": [
    "well = \"K04\"\n",
    "obj = \"/mnt/y/lsp-analysis/LINCS-combinations/rep8/210423_combo_78/210423_combo_78.result.\"+well+\"[test].csv\"\n",
    "obj = \"/Volumes/hits/lsp-analysis/LINCS-combinations/rep8/210423_combo_78/210423_combo_78.result.\"+well+\"[test].csv\"\n",
    "y1 = mg.update_ldr_gating(obj, well, ndict, plot_ldr_log10=True, plot_with_dna = True, is_ldrint = True, is_csv=True)\n",
    "display(y1)"
   ]
  },
  {
   "cell_type": "code",
   "execution_count": 8,
   "id": "222142cd-a752-42a8-a8cc-343b7f232b8e",
   "metadata": {},
   "outputs": [
    {
     "name": "stdout",
     "output_type": "stream",
     "text": [
      "peak_locs\n",
      "[ 22  43  64 151]\n",
      "cc\n",
      "[0.29697258 0.81466061 1.33234865 3.47705621]\n",
      "[      -inf 3.47705621]\n"
     ]
    },
    {
     "name": "stderr",
     "output_type": "stream",
     "text": [
      "/home/nick/mambaforge/lib/python3.10/site-packages/pandas/core/arraylike.py:396: RuntimeWarning: invalid value encountered in log10\n",
      "  result = getattr(ufunc, method)(*inputs, **kwargs)\n"
     ]
    },
    {
     "data": {
      "text/html": [
       "<div>\n",
       "<style scoped>\n",
       "    .dataframe tbody tr th:only-of-type {\n",
       "        vertical-align: middle;\n",
       "    }\n",
       "\n",
       "    .dataframe tbody tr th {\n",
       "        vertical-align: top;\n",
       "    }\n",
       "\n",
       "    .dataframe thead th {\n",
       "        text-align: right;\n",
       "    }\n",
       "</style>\n",
       "<table border=\"1\" class=\"dataframe\">\n",
       "  <thead>\n",
       "    <tr style=\"text-align: right;\">\n",
       "      <th></th>\n",
       "      <th>barcode</th>\n",
       "      <th>well</th>\n",
       "      <th>alive</th>\n",
       "      <th>alive_subg1</th>\n",
       "      <th>alive_beyondg2</th>\n",
       "      <th>dead_ldrpos</th>\n",
       "      <th>dead_subg1</th>\n",
       "      <th>cell_count</th>\n",
       "      <th>cell_count__dead</th>\n",
       "      <th>cell_count__total</th>\n",
       "    </tr>\n",
       "  </thead>\n",
       "  <tbody>\n",
       "    <tr>\n",
       "      <th>0</th>\n",
       "      <td>/mnt/y/lsp-analysis/LINCS-combinations/rep8/21...</td>\n",
       "      <td>K04</td>\n",
       "      <td>1415</td>\n",
       "      <td>24</td>\n",
       "      <td>86</td>\n",
       "      <td>56</td>\n",
       "      <td>18</td>\n",
       "      <td>1525</td>\n",
       "      <td>74</td>\n",
       "      <td>1599</td>\n",
       "    </tr>\n",
       "  </tbody>\n",
       "</table>\n",
       "</div>"
      ],
      "text/plain": [
       "                                             barcode well  alive  alive_subg1  \\\n",
       "0  /mnt/y/lsp-analysis/LINCS-combinations/rep8/21...  K04   1415           24   \n",
       "\n",
       "   alive_beyondg2  dead_ldrpos  dead_subg1  cell_count  cell_count__dead  \\\n",
       "0              86           56          18        1525                74   \n",
       "\n",
       "   cell_count__total  \n",
       "0               1599  "
      ]
     },
     "execution_count": 8,
     "metadata": {},
     "output_type": "execute_result"
    }
   ],
   "source": [
    "well = 'K04'\n",
    "f = \"210423_combo_78.result.\"+well+\"[test].csv\"\n",
    "#dcf_int.get_counts(batch=\"/mnt/y/lsp-analysis/LINCS-combinations/rep8/210423_combo_78\", filename=f, ndict = ndict, is_csv=True)\n",
    "### testing with higher peak_loc value (default was 1.2)\n",
    "dcf_int.get_counts(batch=\"/mnt/y/lsp-analysis/LINCS-combinations/rep8/210423_combo_78\", filename=f, ndict = ndict, is_csv=True, peak_loc = 2)"
   ]
  },
  {
   "cell_type": "code",
   "execution_count": 31,
   "id": "bd26e3de-756c-4221-8ecb-d6ab771111e2",
   "metadata": {},
   "outputs": [
    {
     "name": "stdout",
     "output_type": "stream",
     "text": [
      "peak_locs\n",
      "[ 26 118 138]\n",
      "cc\n",
      "[-1.06529668  1.99779776  2.66368785]\n"
     ]
    },
    {
     "name": "stderr",
     "output_type": "stream",
     "text": [
      "/mnt/c/Users/NC168/git/DrugResponse/python/cell_cycle_gating/dead_cell_filter_ldrint.py:246: RuntimeWarning: invalid value encountered in log10\n",
      "  logint = np.log10(ldrint)\n",
      "/mnt/c/Users/NC168/git/DrugResponse/python/cell_cycle_gating/dead_cell_filter_ldrint.py:104: RuntimeWarning: invalid value encountered in log10\n",
      "  logint = np.log10(ldrint)\n",
      "/mnt/c/Users/NC168/git/DrugResponse/python/cell_cycle_gating/dead_cell_filter_ldrint.py:153: RuntimeWarning: invalid value encountered in log10\n",
      "  logint = np.log10(ldrint)\n",
      "/mnt/c/Users/NC168/git/DrugResponse/python/cell_cycle_gating/dead_cell_filter_ldrint.py:321: RuntimeWarning: invalid value encountered in log10\n",
      "  logint = np.log10(ldrint)\n"
     ]
    },
    {
     "data": {
      "application/vnd.jupyter.widget-view+json": {
       "model_id": "e9cd1050aad74ceb8a073dd91bb27787",
       "version_major": 2,
       "version_minor": 0
      },
      "text/plain": [
       "interactive(children=(FloatSlider(value=1.9977977597619816, description='ldr_cutoff', max=4.087838049488207, m…"
      ]
     },
     "metadata": {},
     "output_type": "display_data"
    }
   ],
   "source": [
    "### look at 2021-10-05 SUM1315 -- high dead counts on end-time controls -- e.g. plate 160\n",
    "well = \"H07\"\n",
    "obj = \"/mnt/y/lsp-analysis/LINCS-combinations/redo_rep1_and_2/211005_combo_160/211005_combo_160.result.\"+well+\"[test].csv\"\n",
    "ndict = {'Well Name':'well',\n",
    "         'ldrint': 'ldr',\n",
    "         'Cell: EdUrawINT (DDD-bckgrnd)': 'edu',\n",
    "         'Cell: EdUbackground (DDD-bckgrnd)': 'edu_bg',\n",
    "        'Cell: HoechstINT (DDD-bckgrnd)': 'dna'\n",
    "        }\n",
    "y = mg.update_ldr_gating(obj, well, ndict, plot_with_dna = True, is_ldrint = True, is_csv=True)\n",
    "display(y)\n"
   ]
  },
  {
   "cell_type": "code",
   "execution_count": 30,
   "id": "cb7171e9-2fa6-48e0-be63-14e972c15044",
   "metadata": {},
   "outputs": [
    {
     "name": "stdout",
     "output_type": "stream",
     "text": [
      "peak_locs\n",
      "[]\n",
      "cc\n",
      "[]\n"
     ]
    },
    {
     "name": "stderr",
     "output_type": "stream",
     "text": [
      "/mnt/c/Users/NC168/git/DrugResponse/python/cell_cycle_gating/dead_cell_filter_ldrint.py:246: RuntimeWarning: invalid value encountered in log10\n",
      "  logint = np.log10(ldrint)\n",
      "/mnt/c/Users/NC168/git/DrugResponse/python/cell_cycle_gating/dead_cell_filter_ldrint.py:104: RuntimeWarning: invalid value encountered in log10\n",
      "  logint = np.log10(ldrint)\n",
      "/mnt/c/Users/NC168/git/DrugResponse/python/cell_cycle_gating/dead_cell_filter_ldrint.py:153: RuntimeWarning: invalid value encountered in log10\n",
      "  logint = np.log10(ldrint)\n",
      "/mnt/c/Users/NC168/git/DrugResponse/python/cell_cycle_gating/dead_cell_filter_ldrint.py:321: RuntimeWarning: invalid value encountered in log10\n",
      "  logint = np.log10(ldrint)\n"
     ]
    },
    {
     "data": {
      "application/vnd.jupyter.widget-view+json": {
       "model_id": "81fab353aa20402b95385318046c8784",
       "version_major": 2,
       "version_minor": 0
      },
      "text/plain": [
       "interactive(children=(FloatSlider(value=3.1536505443837433, description='g1_left', max=4.209360656120261, min=…"
      ]
     },
     "metadata": {},
     "output_type": "display_data"
    }
   ],
   "source": [
    "z = mg.update_gating(obj, well, ndict, is_ldrint = True, is_csv=True, ph3_channel=False)\n",
    "display(z)"
   ]
  },
  {
   "cell_type": "code",
   "execution_count": null,
   "id": "868615bb-df7b-44c8-a159-b7f75bf22ff1",
   "metadata": {
    "scrolled": true
   },
   "outputs": [],
   "source": [
    "dfo = pd.read_csv(obj)\n",
    "#dfo.sort_values(by=['ldrint'], ascending = False)"
   ]
  },
  {
   "cell_type": "code",
   "execution_count": null,
   "id": "971fe309-264c-4d87-ad7f-c3b2b496679f",
   "metadata": {},
   "outputs": [],
   "source": [
    "f"
   ]
  },
  {
   "cell_type": "code",
   "execution_count": null,
   "id": "da33d9ea-9e9f-473d-b125-aeed40840e27",
   "metadata": {},
   "outputs": [],
   "source": [
    "np.sum(np.isnan(dfo.ldrint))"
   ]
  },
  {
   "cell_type": "code",
   "execution_count": null,
   "id": "2bdd3e4a-29e4-4cdb-b852-cbc2e693c94b",
   "metadata": {},
   "outputs": [],
   "source": [
    "plt.hist(np.log10(dfo.ldrint))"
   ]
  },
  {
   "cell_type": "code",
   "execution_count": null,
   "id": "cafa3476-2a50-4bf1-a330-c78d7d558351",
   "metadata": {},
   "outputs": [],
   "source": [
    "np.arange(0, dfo.ldrint.max(), 100)"
   ]
  },
  {
   "cell_type": "code",
   "execution_count": null,
   "id": "eb5779ed-64d7-41e9-ade0-6569470dccb7",
   "metadata": {},
   "outputs": [],
   "source": []
  }
 ],
 "metadata": {
  "kernelspec": {
   "display_name": "Python 3 (ipykernel)",
   "language": "python",
   "name": "python3"
  },
  "language_info": {
   "codemirror_mode": {
    "name": "ipython",
    "version": 3
   },
   "file_extension": ".py",
   "mimetype": "text/x-python",
   "name": "python",
   "nbconvert_exporter": "python",
   "pygments_lexer": "ipython3",
   "version": "3.10.8"
  }
 },
 "nbformat": 4,
 "nbformat_minor": 5
}
