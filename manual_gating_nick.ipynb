{
 "cells": [
  {
   "cell_type": "code",
   "execution_count": null,
   "id": "22041a0c-3744-411d-a33a-716807125ce7",
   "metadata": {},
   "outputs": [],
   "source": [
    "import pandas as pd\n",
    "from cell_cycle_gating import manual_gating as mg\n",
    "import matplotlib\n",
    "import numpy as np\n",
    "import matplotlib.pyplot as plt"
   ]
  },
  {
   "cell_type": "code",
   "execution_count": null,
   "id": "30d0a5d9-3cbe-456f-a90a-e97e46bc48b9",
   "metadata": {},
   "outputs": [],
   "source": [
    "### define channel names and well/file to be updated\n",
    "\n",
    "#well = 'K04' ## bad well\n",
    "well = 'K03' ## good well\n",
    "\n",
    "obj = \"/mnt/y/lsp-analysis/LINCS-combinations/rep8/210423_combo_78/210423_combo_78.result.\"+well+\"[test].csv\"\n",
    "ndict = {'Well Name':'well',\n",
    "         'ldrint': 'ldr',\n",
    "        'Cell: DNAcontent (DD-bckgrnd)': 'dna'}\n"
   ]
  },
  {
   "cell_type": "code",
   "execution_count": null,
   "id": "f97fc0f3-097c-4137-bdeb-03874bc73828",
   "metadata": {},
   "outputs": [],
   "source": [
    "y = mg.update_ldr_gating(obj, well, ndict, edu_channel= False, ph3_channel=False, system=\"ixm\")\n",
    "display(y)"
   ]
  },
  {
   "cell_type": "code",
   "execution_count": null,
   "id": "379b21bb-c3e0-4599-bb12-e62b74292c33",
   "metadata": {},
   "outputs": [],
   "source": []
  },
  {
   "cell_type": "code",
   "execution_count": null,
   "id": "868615bb-df7b-44c8-a159-b7f75bf22ff1",
   "metadata": {},
   "outputs": [],
   "source": [
    "dfo = pd.read_csv(obj)\n",
    "dfo.sort_values(by=['ldrint'], ascending = False)"
   ]
  },
  {
   "cell_type": "code",
   "execution_count": null,
   "id": "da33d9ea-9e9f-473d-b125-aeed40840e27",
   "metadata": {},
   "outputs": [],
   "source": [
    "np.sum(np.isnan(dfo.ldrint))"
   ]
  },
  {
   "cell_type": "code",
   "execution_count": null,
   "id": "2bdd3e4a-29e4-4cdb-b852-cbc2e693c94b",
   "metadata": {},
   "outputs": [],
   "source": [
    "plt.hist(np.log10(dfo.ldrint))"
   ]
  },
  {
   "cell_type": "code",
   "execution_count": null,
   "id": "cafa3476-2a50-4bf1-a330-c78d7d558351",
   "metadata": {},
   "outputs": [],
   "source": [
    "np.arange(0, dfo.ldrint.max(), 100)"
   ]
  }
 ],
 "metadata": {
  "kernelspec": {
   "display_name": "Python 3 (ipykernel)",
   "language": "python",
   "name": "python3"
  },
  "language_info": {
   "codemirror_mode": {
    "name": "ipython",
    "version": 3
   },
   "file_extension": ".py",
   "mimetype": "text/x-python",
   "name": "python",
   "nbconvert_exporter": "python",
   "pygments_lexer": "ipython3",
   "version": "3.10.10"
  }
 },
 "nbformat": 4,
 "nbformat_minor": 5
}
