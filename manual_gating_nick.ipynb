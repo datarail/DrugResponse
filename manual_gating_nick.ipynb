{
 "cells": [
  {
   "cell_type": "code",
   "execution_count": null,
   "id": "22041a0c-3744-411d-a33a-716807125ce7",
   "metadata": {},
   "outputs": [],
   "source": [
    "import pandas as pd\n",
    "from cell_cycle_gating import manual_gating as mg\n",
    "from cell_cycle_gating import dead_cell_filter_ldrint as dcf_int\n",
    "import matplotlib\n",
    "import numpy as np\n",
    "import matplotlib.pyplot as plt"
   ]
  },
  {
   "cell_type": "code",
   "execution_count": null,
   "id": "30d0a5d9-3cbe-456f-a90a-e97e46bc48b9",
   "metadata": {},
   "outputs": [],
   "source": [
    "### define channel names and well/file to be updated\n",
    "\n",
    "#well = 'K04' ## bad well\n",
    "well = 'K03' ## good well\n",
    "\n",
    "obj = \"/mnt/y/lsp-analysis/LINCS-combinations/rep8/210423_combo_78/210423_combo_78.result.\"+well+\"[test].csv\"\n",
    "#obj = \"/Volumes/hits/lsp-analysis/LINCS-combinations/rep8/210423_combo_78/210423_combo_78.result.\"+well+\"[test].csv\"\n",
    "\n",
    "ndict = {'Well Name':'well',\n",
    "         'ldrint': 'ldr',\n",
    "        'Cell: DNAcontent (DD-bckgrnd)': 'dna'\n",
    "        }\n"
   ]
  },
  {
   "cell_type": "code",
   "execution_count": null,
   "id": "cddc627f-72c8-4086-b503-38c12047aa55",
   "metadata": {},
   "outputs": [],
   "source": [
    "well = 'K03'\n",
    "f = \"210423_combo_78.result.\"+well+\"[test].csv\"\n",
    "batch = \"/mnt/y/lsp-analysis/LINCS-combinations/rep8/210423_combo_78\"\n",
    "#batch = \"/Volumes/hits/lsp-analysis/LINCS-combinations/rep8/210423_combo_78\"\n",
    "dcf_int.get_counts(batch=batch, filename=f, ndict = ndict, is_csv=True)"
   ]
  },
  {
   "cell_type": "code",
   "execution_count": null,
   "id": "c4e33f82-04c9-4b25-b0cd-d0ede79be663",
   "metadata": {},
   "outputs": [],
   "source": [
    "well = 'K04'\n",
    "f = \"210423_combo_78.result.\"+well+\"[test].csv\"\n",
    "batch = \"/mnt/y/lsp-analysis/LINCS-combinations/rep8/210423_combo_78\"\n",
    "#batch = \"/Volumes/hits/lsp-analysis/LINCS-combinations/rep8/210423_combo_78\"\n",
    "dcf_int.get_counts(batch=batch, filename=f, ndict = ndict, is_csv=True)\n",
    "### testing with higher peak_loc value (default was 1.2)\n",
    "#dcf_int.get_counts(batch=\"/mnt/y/lsp-analysis/LINCS-combinations/rep8/210423_combo_78\", filename=f, ndict = ndict, is_csv=True, peak_loc = 2)"
   ]
  },
  {
   "cell_type": "code",
   "execution_count": null,
   "id": "f97fc0f3-097c-4137-bdeb-03874bc73828",
   "metadata": {},
   "outputs": [],
   "source": [
    "well = \"K03\"\n",
    "obj = \"/mnt/y/lsp-analysis/LINCS-combinations/rep8/210423_combo_78/210423_combo_78.result.\"+well+\"[test].csv\"\n",
    "#obj = \"/Volumes/hits/lsp-analysis/LINCS-combinations/rep8/210423_combo_78/210423_combo_78.result.\"+well+\"[test].csv\"\n",
    "\n",
    "y = mg.update_ldr_gating(obj, well, ndict, plot_ldr_log10=True, plot_with_dna = True, is_ldrint = True, is_csv=True)\n",
    "display(y)"
   ]
  },
  {
   "cell_type": "code",
   "execution_count": null,
   "id": "b3b4394a-8588-4547-b50d-0f448d261b6d",
   "metadata": {},
   "outputs": [],
   "source": [
    "well = \"K04\"\n",
    "obj = \"/mnt/y/lsp-analysis/LINCS-combinations/rep8/210423_combo_78/210423_combo_78.result.\"+well+\"[test].csv\"\n",
    "#obj = \"/Volumes/hits/lsp-analysis/LINCS-combinations/rep8/210423_combo_78/210423_combo_78.result.\"+well+\"[test].csv\"\n",
    "y1 = mg.update_ldr_gating(obj, well, ndict, plot_ldr_log10=True, plot_with_dna = True, is_ldrint = True, is_csv=True)\n",
    "display(y1)"
   ]
  },
  {
   "cell_type": "code",
   "execution_count": null,
   "id": "222142cd-a752-42a8-a8cc-343b7f232b8e",
   "metadata": {},
   "outputs": [],
   "source": [
    "well = 'K04'\n",
    "f = \"210423_combo_78.result.\"+well+\"[test].csv\"\n",
    "#dcf_int.get_counts(batch=\"/mnt/y/lsp-analysis/LINCS-combinations/rep8/210423_combo_78\", filename=f, ndict = ndict, is_csv=True)\n",
    "### testing with higher peak_loc value (default was 1.2)\n",
    "dcf_int.get_counts(batch=\"/mnt/y/lsp-analysis/LINCS-combinations/rep8/210423_combo_78\", filename=f, ndict = ndict, is_csv=True, peak_loc = 2)"
   ]
  },
  {
   "cell_type": "code",
   "execution_count": null,
   "id": "bd26e3de-756c-4221-8ecb-d6ab771111e2",
   "metadata": {},
   "outputs": [],
   "source": [
    "### look at 2021-10-15 SUM1315 -- high dead counts on end-time controls -- e.g. plate 178\n",
    "good_well = \"H07\"\n",
    "bad_well = 'G03'\n",
    "well = bad_well\n",
    "obj = \"/mnt/y/lsp-analysis/LINCS-combinations/redo_rep1_and_2/redo_rep2/211015_combo_176/211015_combo_176.result.\"+well+\"[test].csv\"\n",
    "ndict = {'Well Name':'well',\n",
    "         'ldrint': 'ldr',\n",
    "         'Cell: EdUrawINT (DDD-bckgrnd)': 'edu_raw',\n",
    "         'Cell: EdUbackground (DDD-bckgrnd)': 'edu_bg',\n",
    "        'Cell: HoechstINT (DDD-bckgrnd)': 'dna'\n",
    "        }\n",
    "y = mg.update_ldr_gating(obj, well, ndict, plot_with_dna = True, is_ldrint = True, is_csv=True)\n",
    "display(y)\n"
   ]
  },
  {
   "cell_type": "code",
   "execution_count": null,
   "id": "16457cec-1b28-4ca8-a559-5591537827f9",
   "metadata": {},
   "outputs": [],
   "source": [
    "#### SUM1315\n",
    "well = 'G03'\n",
    "#good_well = 'H07'\n",
    "barcode = \"211015_combo_176\"\n",
    "f = barcode+\".result.\"+well+\"[test].csv\"\n",
    "#dcf_int.get_counts(batch=\"/mnt/y/lsp-analysis/LINCS-combinations/rep8/210423_combo_78\", filename=f, ndict = ndict, is_csv=True)\n",
    "### testing with higher peak_loc value (default was 1.2)\n",
    "dcf_int.get_counts(batch=\"/mnt/y/lsp-analysis/LINCS-combinations/redo_rep1_and_2/redo_rep2/211015_combo_176\", filename=f, ndict = ndict, is_csv=True, peak_loc = 2.5)"
   ]
  },
  {
   "cell_type": "code",
   "execution_count": null,
   "id": "cb7171e9-2fa6-48e0-be63-14e972c15044",
   "metadata": {},
   "outputs": [],
   "source": [
    "z = mg.update_gating(obj, well, ndict, is_ldrint = True, is_csv=True, ph3_channel=False, calc_edu = True)\n",
    "display(z)"
   ]
  },
  {
   "cell_type": "code",
   "execution_count": null,
   "id": "868615bb-df7b-44c8-a159-b7f75bf22ff1",
   "metadata": {
    "scrolled": true
   },
   "outputs": [],
   "source": [
    "dfo = pd.read_csv(obj)\n",
    "#dfo.sort_values(by=['ldrint'], ascending = False)"
   ]
  },
  {
   "cell_type": "code",
   "execution_count": null,
   "id": "971fe309-264c-4d87-ad7f-c3b2b496679f",
   "metadata": {},
   "outputs": [],
   "source": [
    "### look at 2021-04-23 SUM1315 -- example of good SUM1315 -- e.g. plate 210423_combo_85\n",
    "well = \"E11\" ## bad SUM1315 control well\n",
    "#well = \"L11\" ## probably good SUM185PE treated well\n",
    "#well = \"G15\" ## good w/ high dead count SUM149 control well\n",
    "barcode = \"210423_combo_85\"\n",
    "obj = \"/mnt/y/lsp-analysis/LINCS-combinations/rep8/\"+barcode+\"/\"+barcode+\".result.\"+well+\"[test].csv\"\n",
    "ndict = {'Well Name':'well',\n",
    "         'ldrint': 'ldr',\n",
    "        'Cell: DNAcontent (DD-bckgrnd)': 'dna'\n",
    "        }\n",
    "y = mg.update_ldr_gating(obj, well, ndict, plot_with_dna = True, is_ldrint = True, is_csv=True)\n",
    "display(y)"
   ]
  },
  {
   "cell_type": "code",
   "execution_count": null,
   "id": "da33d9ea-9e9f-473d-b125-aeed40840e27",
   "metadata": {},
   "outputs": [],
   "source": [
    "barcode = \"210423_combo_85\"\n",
    "f = barcode+\".result.\"+well+\"[test].csv\"\n",
    "dcf_int.get_counts(batch=\"/mnt/y/lsp-analysis/LINCS-combinations/rep8/\"+barcode, filename=f, ndict = ndict, is_csv=True)"
   ]
  },
  {
   "cell_type": "code",
   "execution_count": null,
   "id": "2bdd3e4a-29e4-4cdb-b852-cbc2e693c94b",
   "metadata": {},
   "outputs": [],
   "source": []
  },
  {
   "cell_type": "code",
   "execution_count": null,
   "id": "cafa3476-2a50-4bf1-a330-c78d7d558351",
   "metadata": {},
   "outputs": [],
   "source": []
  },
  {
   "cell_type": "code",
   "execution_count": null,
   "id": "eb5779ed-64d7-41e9-ade0-6569470dccb7",
   "metadata": {},
   "outputs": [],
   "source": []
  }
 ],
 "metadata": {
  "kernelspec": {
   "display_name": "Python 3 (ipykernel)",
   "language": "python",
   "name": "python3"
  },
  "language_info": {
   "codemirror_mode": {
    "name": "ipython",
    "version": 3
   },
   "file_extension": ".py",
   "mimetype": "text/x-python",
   "name": "python",
   "nbconvert_exporter": "python",
   "pygments_lexer": "ipython3",
   "version": "3.10.10"
  }
 },
 "nbformat": 4,
 "nbformat_minor": 5
}
